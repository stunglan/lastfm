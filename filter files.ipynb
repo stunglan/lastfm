{
 "cells": [
  {
   "cell_type": "markdown",
   "metadata": {},
   "source": [
    "filter input file"
   ]
  },
  {
   "cell_type": "code",
   "execution_count": null,
   "metadata": {
    "collapsed": true
   },
   "outputs": [],
   "source": [
    "import pylast\n",
    "import inspect\n",
    "import csv\n",
    "import codecs\n",
    "import time\n",
    "\n",
    "infile = codecs.open(\"lastfmplayscomplete.csv\",\"r\",\"utf-8\")\n",
    "\n",
    "\n",
    "\n",
    "\n",
    "\n",
    "\n",
    "outfile = codecs.open(\"lastfmplayscompletefiltered.csv\",\"w\",\"utf-8\")"
   ]
  }
 ],
 "metadata": {
  "kernelspec": {
   "display_name": "Python 2",
   "language": "python",
   "name": "python2"
  },
  "language_info": {
   "codemirror_mode": {
    "name": "ipython",
    "version": 2
   },
   "file_extension": ".py",
   "mimetype": "text/x-python",
   "name": "python",
   "nbconvert_exporter": "python",
   "pygments_lexer": "ipython2",
   "version": "2.7.9"
  }
 },
 "nbformat": 4,
 "nbformat_minor": 0
}
